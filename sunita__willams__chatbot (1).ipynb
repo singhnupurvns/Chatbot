{
 "cells": [
  {
   "cell_type": "code",
   "execution_count": 1,
   "metadata": {},
   "outputs": [
    {
     "name": "stdout",
     "output_type": "stream",
     "text": [
      "Requirement already satisfied: transformers in /usr/local/lib/python3.11/dist-packages (4.48.3)\n",
      "Requirement already satisfied: filelock in /usr/local/lib/python3.11/dist-packages (from transformers) (3.17.0)\n",
      "Requirement already satisfied: huggingface-hub<1.0,>=0.24.0 in /usr/local/lib/python3.11/dist-packages (from transformers) (0.28.1)\n",
      "Requirement already satisfied: numpy>=1.17 in /usr/local/lib/python3.11/dist-packages (from transformers) (2.0.2)\n",
      "Requirement already satisfied: packaging>=20.0 in /usr/local/lib/python3.11/dist-packages (from transformers) (24.2)\n",
      "Requirement already satisfied: pyyaml>=5.1 in /usr/local/lib/python3.11/dist-packages (from transformers) (6.0.2)\n",
      "Requirement already satisfied: regex!=2019.12.17 in /usr/local/lib/python3.11/dist-packages (from transformers) (2024.11.6)\n",
      "Requirement already satisfied: requests in /usr/local/lib/python3.11/dist-packages (from transformers) (2.32.3)\n",
      "Requirement already satisfied: tokenizers<0.22,>=0.21 in /usr/local/lib/python3.11/dist-packages (from transformers) (0.21.1)\n",
      "Requirement already satisfied: safetensors>=0.4.1 in /usr/local/lib/python3.11/dist-packages (from transformers) (0.5.3)\n",
      "Requirement already satisfied: tqdm>=4.27 in /usr/local/lib/python3.11/dist-packages (from transformers) (4.67.1)\n",
      "Requirement already satisfied: fsspec>=2023.5.0 in /usr/local/lib/python3.11/dist-packages (from huggingface-hub<1.0,>=0.24.0->transformers) (2024.10.0)\n",
      "Requirement already satisfied: typing-extensions>=3.7.4.3 in /usr/local/lib/python3.11/dist-packages (from huggingface-hub<1.0,>=0.24.0->transformers) (4.12.2)\n",
      "Requirement already satisfied: charset-normalizer<4,>=2 in /usr/local/lib/python3.11/dist-packages (from requests->transformers) (3.4.1)\n",
      "Requirement already satisfied: idna<4,>=2.5 in /usr/local/lib/python3.11/dist-packages (from requests->transformers) (3.10)\n",
      "Requirement already satisfied: urllib3<3,>=1.21.1 in /usr/local/lib/python3.11/dist-packages (from requests->transformers) (2.3.0)\n",
      "Requirement already satisfied: certifi>=2017.4.17 in /usr/local/lib/python3.11/dist-packages (from requests->transformers) (2025.1.31)\n"
     ]
    }
   ],
   "source": [
    "!pip install transformers"
   ]
  },
  {
   "cell_type": "code",
   "execution_count": 3,
   "metadata": {},
   "outputs": [
    {
     "data": {
      "application/vnd.jupyter.widget-view+json": {
       "model_id": "e832eaedf72d4746bd38d36cb5662329",
       "version_major": 2,
       "version_minor": 0
      },
      "text/plain": [
       "config.json:   0%|          | 0.00/443 [00:00<?, ?B/s]"
      ]
     },
     "metadata": {},
     "output_type": "display_data"
    },
    {
     "data": {
      "application/vnd.jupyter.widget-view+json": {
       "model_id": "d5b872cb83dd4642a1c86fd218f8e37a",
       "version_major": 2,
       "version_minor": 0
      },
      "text/plain": [
       "model.safetensors:   0%|          | 0.00/1.34G [00:00<?, ?B/s]"
      ]
     },
     "metadata": {},
     "output_type": "display_data"
    },
    {
     "name": "stderr",
     "output_type": "stream",
     "text": [
      "Some weights of the model checkpoint at bert-large-uncased-whole-word-masking-finetuned-squad were not used when initializing BertForQuestionAnswering: ['bert.pooler.dense.bias', 'bert.pooler.dense.weight']\n",
      "- This IS expected if you are initializing BertForQuestionAnswering from the checkpoint of a model trained on another task or with another architecture (e.g. initializing a BertForSequenceClassification model from a BertForPreTraining model).\n",
      "- This IS NOT expected if you are initializing BertForQuestionAnswering from the checkpoint of a model that you expect to be exactly identical (initializing a BertForSequenceClassification model from a BertForSequenceClassification model).\n"
     ]
    }
   ],
   "source": [
    "import torch\n",
    "from transformers import BertForQuestionAnswering\n",
    "model = BertForQuestionAnswering.from_pretrained('bert-large-uncased-whole-word-masking-finetuned-squad')"
   ]
  },
  {
   "cell_type": "code",
   "execution_count": 4,
   "metadata": {},
   "outputs": [
    {
     "data": {
      "application/vnd.jupyter.widget-view+json": {
       "model_id": "d2a2c5fce4394eb2b3555f455bee954b",
       "version_major": 2,
       "version_minor": 0
      },
      "text/plain": [
       "tokenizer_config.json:   0%|          | 0.00/48.0 [00:00<?, ?B/s]"
      ]
     },
     "metadata": {},
     "output_type": "display_data"
    },
    {
     "data": {
      "application/vnd.jupyter.widget-view+json": {
       "model_id": "2dac34b9200f42a49750a88b8f5854d7",
       "version_major": 2,
       "version_minor": 0
      },
      "text/plain": [
       "vocab.txt:   0%|          | 0.00/232k [00:00<?, ?B/s]"
      ]
     },
     "metadata": {},
     "output_type": "display_data"
    },
    {
     "data": {
      "application/vnd.jupyter.widget-view+json": {
       "model_id": "d68cd0773f13489cacd9b0a990abab57",
       "version_major": 2,
       "version_minor": 0
      },
      "text/plain": [
       "tokenizer.json:   0%|          | 0.00/466k [00:00<?, ?B/s]"
      ]
     },
     "metadata": {},
     "output_type": "display_data"
    }
   ],
   "source": [
    "from transformers import BertTokenizer\n",
    "tokenizer = BertTokenizer.from_pretrained(\"bert-large-uncased-whole-word-masking-finetuned-squad\")"
   ]
  },
  {
   "cell_type": "code",
   "execution_count": 5,
   "metadata": {},
   "outputs": [],
   "source": [
    "import textwrap\n",
    "wrapping = textwrap.TextWrapper(width=80)"
   ]
  },
  {
   "cell_type": "code",
   "execution_count": 8,
   "metadata": {},
   "outputs": [],
   "source": [
    "text = \"\"\"\n",
    "Sunita Lyn \"Suni\" Williams (née Pandya; born September 19, 1965) is an Indian-American astronaut, commander of the International Space Station, retired U.S. Navy officer, and one of the most experienced spacewalkers with nine spacewalks (second most for a woman) and a total time of 62 hours and 6 minutes (fourth overall, current record-holder for most hours spent during spacewalks by a woman). Williams was assigned to the International Space Station as a member of Expedition 14 and Expedition 15. In 2012, she served as a flight engineer on Expedition 32 and then commander of Expedition 33.\n",
    "\n",
    "\n",
    "Williams was born in Euclid, Ohio, but considers Needham, Massachusetts, to be her hometown.[1] Her father, Deepak Pandya, was an Indian-American neuroanatomist from Mehsana district, Gujarat, while her mother, Ursuline Bonnie Pandya (née Zalokar) was a Slovene-American. Her parents resided in Falmouth, Massachusetts. She is the youngest of three children. Her brother, Jay Thomas, is four years older and her sister, Dina Annad, is three years older. Williams' paternal family is from Jhulasan in India[2] whereas her maternal family is of Slovene descent.[3] Williams has taken the Slovenian flag,[4] a samosa and Carniolan sausage to space in celebration of her Indian and Slovenian heritage.[5] Her nicknames are Suni in the United States[1] and Sončka in Slovenia. the United States Naval Academy in 1987, and a Master of Science degree in engineering management from Florida Institute of Technology in 1995.\n",
    "\n",
    "Williams graduated from Needham High School in 1983.\"\"\""
   ]
  },
  {
   "cell_type": "code",
   "execution_count": 9,
   "metadata": {},
   "outputs": [
    {
     "data": {
      "application/vnd.google.colaboratory.intrinsic+json": {
       "type": "string"
      },
      "text/plain": [
       "'\\nSunita Lyn \"Suni\" Williams (née Pandya; born September 19, 1965) is an Indian-American astronaut, commander of the International Space Station, retired U.S. Navy officer, and one of the most experienced spacewalkers with nine spacewalks (second most for a woman) and a total time of 62 hours and 6 minutes (fourth overall, current record-holder for most hours spent during spacewalks by a woman). Williams was assigned to the International Space Station as a member of Expedition 14 and Expedition 15. In 2012, she served as a flight engineer on Expedition 32 and then commander of Expedition 33.\\n\\n\\nWilliams was born in Euclid, Ohio, but considers Needham, Massachusetts, to be her hometown.[1] Her father, Deepak Pandya, was an Indian-American neuroanatomist from Mehsana district, Gujarat, while her mother, Ursuline Bonnie Pandya (née Zalokar) was a Slovene-American. Her parents resided in Falmouth, Massachusetts. She is the youngest of three children. Her brother, Jay Thomas, is four years older and her sister, Dina Annad, is three years older. Williams\\' paternal family is from Jhulasan in India[2] whereas her maternal family is of Slovene descent.[3] Williams has taken the Slovenian flag,[4] a samosa and Carniolan sausage to space in celebration of her Indian and Slovenian heritage.[5] Her nicknames are Suni in the United States[1] and Sončka in Slovenia. the United States Naval Academy in 1987, and a Master of Science degree in engineering management from Florida Institute of Technology in 1995.\\n\\nWilliams graduated from Needham High School in 1983.'"
      ]
     },
     "execution_count": 9,
     "metadata": {},
     "output_type": "execute_result"
    }
   ],
   "source": [
    "text"
   ]
  },
  {
   "cell_type": "code",
   "execution_count": 10,
   "metadata": {},
   "outputs": [
    {
     "name": "stdout",
     "output_type": "stream",
     "text": [
      " Sunita Lyn \"Suni\" Williams (née Pandya; born September 19, 1965) is an Indian-\n",
      "American astronaut, commander of the International Space Station, retired U.S.\n",
      "Navy officer, and one of the most experienced spacewalkers with nine spacewalks\n",
      "(second most for a woman) and a total time of 62 hours and 6 minutes (fourth\n",
      "overall, current record-holder for most hours spent during spacewalks by a\n",
      "woman). Williams was assigned to the International Space Station as a member of\n",
      "Expedition 14 and Expedition 15. In 2012, she served as a flight engineer on\n",
      "Expedition 32 and then commander of Expedition 33.   Williams was born in\n",
      "Euclid, Ohio, but considers Needham, Massachusetts, to be her hometown.[1] Her\n",
      "father, Deepak Pandya, was an Indian-American neuroanatomist from Mehsana\n",
      "district, Gujarat, while her mother, Ursuline Bonnie Pandya (née Zalokar) was a\n",
      "Slovene-American. Her parents resided in Falmouth, Massachusetts. She is the\n",
      "youngest of three children. Her brother, Jay Thomas, is four years older and her\n",
      "sister, Dina Annad, is three years older. Williams' paternal family is from\n",
      "Jhulasan in India[2] whereas her maternal family is of Slovene descent.[3]\n",
      "Williams has taken the Slovenian flag,[4] a samosa and Carniolan sausage to\n",
      "space in celebration of her Indian and Slovenian heritage.[5] Her nicknames are\n",
      "Suni in the United States[1] and Sončka in Slovenia. the United States Naval\n",
      "Academy in 1987, and a Master of Science degree in engineering management from\n",
      "Florida Institute of Technology in 1995.  Williams graduated from Needham High\n",
      "School in 1983.\n"
     ]
    }
   ],
   "source": [
    "wrapped_text = wrapping.fill(text)\n",
    "print(wrapped_text)"
   ]
  },
  {
   "cell_type": "code",
   "execution_count": 11,
   "metadata": {},
   "outputs": [],
   "source": [
    "import re\n",
    "cleaned_text =  re.sub(r\"\\[\\d+\\]\",\"\",wrapped_text)"
   ]
  },
  {
   "cell_type": "code",
   "execution_count": 12,
   "metadata": {},
   "outputs": [
    {
     "data": {
      "application/vnd.google.colaboratory.intrinsic+json": {
       "type": "string"
      },
      "text/plain": [
       "' Sunita Lyn \"Suni\" Williams (née Pandya; born September 19, 1965) is an Indian-\\nAmerican astronaut, commander of the International Space Station, retired U.S.\\nNavy officer, and one of the most experienced spacewalkers with nine spacewalks\\n(second most for a woman) and a total time of 62 hours and 6 minutes (fourth\\noverall, current record-holder for most hours spent during spacewalks by a\\nwoman). Williams was assigned to the International Space Station as a member of\\nExpedition 14 and Expedition 15. In 2012, she served as a flight engineer on\\nExpedition 32 and then commander of Expedition 33.   Williams was born in\\nEuclid, Ohio, but considers Needham, Massachusetts, to be her hometown.[1] Her\\nfather, Deepak Pandya, was an Indian-American neuroanatomist from Mehsana\\ndistrict, Gujarat, while her mother, Ursuline Bonnie Pandya (née Zalokar) was a\\nSlovene-American. Her parents resided in Falmouth, Massachusetts. She is the\\nyoungest of three children. Her brother, Jay Thomas, is four years older and her\\nsister, Dina Annad, is three years older. Williams\\' paternal family is from\\nJhulasan in India[2] whereas her maternal family is of Slovene descent.[3]\\nWilliams has taken the Slovenian flag,[4] a samosa and Carniolan sausage to\\nspace in celebration of her Indian and Slovenian heritage.[5] Her nicknames are\\nSuni in the United States[1] and Sončka in Slovenia. the United States Naval\\nAcademy in 1987, and a Master of Science degree in engineering management from\\nFlorida Institute of Technology in 1995.  Williams graduated from Needham High\\nSchool in 1983.'"
      ]
     },
     "execution_count": 12,
     "metadata": {},
     "output_type": "execute_result"
    }
   ],
   "source": [
    "wrapped_text"
   ]
  },
  {
   "cell_type": "code",
   "execution_count": 13,
   "metadata": {},
   "outputs": [],
   "source": [
    "def answer_question(question,answer_text):\n",
    "  input_ids=tokenizer.encode(question,answer_text)\n",
    "  print(\"Query has {:,} tokens.\\n\".format(len(input_ids)))\n",
    "  sep_index = input_ids.index(tokenizer.sep_token_id)\n",
    "  num_seg_a = sep_index +1\n",
    "  num_seg_b= len(input_ids)- num_seg_a\n",
    "  segment_ids = [0]*num_seg_a + [1]*num_seg_b\n",
    "  assert len(segment_ids)== len(input_ids)\n",
    "  outputs = model(torch.tensor([input_ids]),token_type_ids=torch.tensor([segment_ids]),return_dict=True)\n",
    "  start_scores = outputs.start_logits\n",
    "  end_scores = outputs.end_logits\n",
    "  answer_start = torch.argmax(start_scores)\n",
    "  answer_end = torch.argmax(end_scores)\n",
    "  tokens = tokenizer.convert_ids_to_tokens(input_ids)\n",
    "  answer = tokens[answer_start]\n",
    "  for i in range(answer_start+1,answer_end+1):\n",
    "    if tokens[i][0:2]==\"##\":\n",
    "       answer+= tokens[i][2:]\n",
    "    else:\n",
    "      answer += \" \" + tokens[i]\n",
    "  print('Answer: \"' + answer + '\"')\n"
   ]
  },
  {
   "cell_type": "code",
   "execution_count": 14,
   "metadata": {},
   "outputs": [
    {
     "name": "stdout",
     "output_type": "stream",
     "text": [
      "Query has 352 tokens.\n",
      "\n",
      "Answer: \"an indian - american astronaut\"\n"
     ]
    }
   ],
   "source": [
    "question = \"Who is Sunita Lyn Williams?\"\n",
    "answer_question(question,cleaned_text)"
   ]
  },
  {
   "cell_type": "code",
   "execution_count": 15,
   "metadata": {},
   "outputs": [
    {
     "name": "stdout",
     "output_type": "stream",
     "text": [
      "Query has 353 tokens.\n",
      "\n",
      "Answer: \"september 19 , 1965\"\n"
     ]
    }
   ],
   "source": [
    "question = \"Where and when was Sunita Williams born?\"\n",
    "answer_question(question,cleaned_text)"
   ]
  },
  {
   "cell_type": "code",
   "execution_count": 16,
   "metadata": {},
   "outputs": [
    {
     "name": "stdout",
     "output_type": "stream",
     "text": [
      "Query has 352 tokens.\n",
      "\n",
      "Answer: \"indian - american\"\n"
     ]
    }
   ],
   "source": [
    "question = \"What is Sunita Williams ethnic background?\"\n",
    "answer_question(question,cleaned_text)"
   ]
  },
  {
   "cell_type": "code",
   "execution_count": 17,
   "metadata": {},
   "outputs": [
    {
     "name": "stdout",
     "output_type": "stream",
     "text": [
      "Query has 359 tokens.\n",
      "\n",
      "Answer: \"suni in the united states and soncka in slovenia\"\n"
     ]
    }
   ],
   "source": [
    "question =\"What are Sunita Williams' nicknames, and what do they mean?\"\n",
    "answer_question(question,cleaned_text)"
   ]
  },
  {
   "cell_type": "code",
   "execution_count": 18,
   "metadata": {},
   "outputs": [
    {
     "name": "stdout",
     "output_type": "stream",
     "text": [
      "Query has 355 tokens.\n",
      "\n",
      "Answer: \"commander of the international space station\"\n"
     ]
    }
   ],
   "source": [
    "question = \"What is Sunita Williams known for in her career?\"\n",
    "answer_question(question,cleaned_text)\n"
   ]
  },
  {
   "cell_type": "code",
   "execution_count": 20,
   "metadata": {},
   "outputs": [
    {
     "name": "stdout",
     "output_type": "stream",
     "text": [
      "Query has 355 tokens.\n",
      "\n",
      "Answer: \"nine\"\n"
     ]
    }
   ],
   "source": [
    "question = \"How many spacewalks has Sunita Williams completed?\"\n",
    "answer_question(question,cleaned_text)"
   ]
  },
  {
   "cell_type": "code",
   "execution_count": 21,
   "metadata": {},
   "outputs": [
    {
     "name": "stdout",
     "output_type": "stream",
     "text": [
      "Query has 358 tokens.\n",
      "\n",
      "Answer: \"62 hours and 6 minutes\"\n"
     ]
    }
   ],
   "source": [
    "question =\"What is Sunita Williams' total time spent on spacewalks?\"\n",
    "answer_question(question,cleaned_text)"
   ]
  },
  {
   "cell_type": "code",
   "execution_count": 22,
   "metadata": {},
   "outputs": [
    {
     "name": "stdout",
     "output_type": "stream",
     "text": [
      "Query has 358 tokens.\n",
      "\n",
      "Answer: \"expedition 14 and expedition 15\"\n"
     ]
    }
   ],
   "source": [
    "question = \"Which expeditions did Sunita Williams participate in on the International Space Station?\"\n",
    "answer_question(question,cleaned_text)"
   ]
  },
  {
   "cell_type": "code",
   "execution_count": 23,
   "metadata": {},
   "outputs": [
    {
     "name": "stdout",
     "output_type": "stream",
     "text": [
      "Query has 357 tokens.\n",
      "\n",
      "Answer: \"flight engineer\"\n"
     ]
    }
   ],
   "source": [
    "question = \"What roles did Sunita Williams hold during Expeditions 32 and 33?\"\n",
    "answer_question(question,cleaned_text)"
   ]
  },
  {
   "cell_type": "code",
   "execution_count": 24,
   "metadata": {},
   "outputs": [
    {
     "name": "stdout",
     "output_type": "stream",
     "text": [
      "Query has 355 tokens.\n",
      "\n",
      "Answer: \"nine spacewalks ( second most for a woman ) and a total time of 62 hours and 6 minutes\"\n"
     ]
    }
   ],
   "source": [
    "question = \"What records does Sunita Williams hold in space exploration?\"\n",
    "answer_question(question,cleaned_text)\n"
   ]
  },
  {
   "cell_type": "code",
   "execution_count": 25,
   "metadata": {},
   "outputs": [
    {
     "name": "stdout",
     "output_type": "stream",
     "text": [
      "Query has 354 tokens.\n",
      "\n",
      "Answer: \"needham\"\n"
     ]
    }
   ],
   "source": [
    "question = \"Where did Sunita Williams graduate from high school?\"\n",
    "answer_question(question,cleaned_text)"
   ]
  },
  {
   "cell_type": "code",
   "execution_count": 26,
   "metadata": {},
   "outputs": [
    {
     "name": "stdout",
     "output_type": "stream",
     "text": [
      "Query has 357 tokens.\n",
      "\n",
      "Answer: \"united states naval academy in 1987 , and a master of science degree in engineering management from florida institute of technology\"\n"
     ]
    }
   ],
   "source": [
    "question = \"What degrees does Sunita Williams hold, and from which institutions?\"\n",
    "answer_question(question,cleaned_text)"
   ]
  },
  {
   "cell_type": "code",
   "execution_count": 27,
   "metadata": {},
   "outputs": [
    {
     "name": "stdout",
     "output_type": "stream",
     "text": [
      "Query has 359 tokens.\n",
      "\n",
      "Answer: \"retired\"\n"
     ]
    }
   ],
   "source": [
    "question = \"What is Sunita Williams' connection to the U.S. Navy?\"\n",
    "answer_question(question,cleaned_text)\n"
   ]
  },
  {
   "cell_type": "code",
   "execution_count": 28,
   "metadata": {},
   "outputs": [
    {
     "name": "stdout",
     "output_type": "stream",
     "text": [
      "Query has 353 tokens.\n",
      "\n",
      "Answer: \"williams ' paternal family is from jhulasan in india\"\n"
     ]
    }
   ],
   "source": [
    "question = \"What is Sunita Williams' family background?\"\n",
    "answer_question(question,cleaned_text)\n"
   ]
  },
  {
   "cell_type": "code",
   "execution_count": 30,
   "metadata": {},
   "outputs": [
    {
     "name": "stdout",
     "output_type": "stream",
     "text": [
      "Query has 358 tokens.\n",
      "\n",
      "Answer: \"slovenian flag , a samosa and carniolan sausage\"\n"
     ]
    }
   ],
   "source": [
    "question = \"What items did Sunita Williams take to space to celebrate her heritage?\"\n",
    "answer_question(question,cleaned_text)"
   ]
  },
  {
   "cell_type": "code",
   "execution_count": 31,
   "metadata": {},
   "outputs": [
    {
     "name": "stdout",
     "output_type": "stream",
     "text": [
      "Query has 366 tokens.\n",
      "\n",
      "Answer: \"celebration of her indian and slovenian heritage\"\n"
     ]
    }
   ],
   "source": [
    "question = \"What is the significance of the Slovenian flag, samosa, and Carniolan sausage to Sunita Williams?\"\n",
    "answer_question(question,cleaned_text)"
   ]
  },
  {
   "cell_type": "code",
   "execution_count": 32,
   "metadata": {},
   "outputs": [
    {
     "name": "stdout",
     "output_type": "stream",
     "text": [
      "Query has 358 tokens.\n",
      "\n",
      "Answer: \"nine spacewalks ( second most for a woman ) and a total time of 62 hours and 6 minutes\"\n"
     ]
    }
   ],
   "source": [
    "question = \"What are some unique facts about Sunita Williams' life and career?\"\n",
    "answer_question(question,cleaned_text)"
   ]
  },
  {
   "cell_type": "code",
   "execution_count": 33,
   "metadata": {},
   "outputs": [
    {
     "name": "stdout",
     "output_type": "stream",
     "text": [
      "Query has 358 tokens.\n",
      "\n",
      "Answer: \"taken the slovenian flag , a samosa and carniolan sausage\"\n"
     ]
    }
   ],
   "source": [
    "question = \"How does Sunita Williams honor her Indian and Slovenian heritage in space?\"\n",
    "answer_question(question,cleaned_text)"
   ]
  },
  {
   "cell_type": "code",
   "execution_count": 34,
   "metadata": {},
   "outputs": [
    {
     "name": "stdout",
     "output_type": "stream",
     "text": [
      "Query has 361 tokens.\n",
      "\n",
      "Answer: \"retired u . s . navy officer , and one of the most experienced spacewalkers with nine spacewalks ( second most for a woman ) and a total time of 62 hours and 6 minutes ( fourth overall , current record - holder for most hours spent during spacewalks by a woman ) . williams was assigned to the international space station as a member of expedition 14 and expedition 15 . in 2012 , she served as a flight engineer on expedition 32 and then commander of expedition 33 . williams was born in euclid , ohio , but considers needham , massachusetts , to be her hometown . her father , deepak pandya , was an indian - american neuroanatomist from mehsana district , gujarat , while her mother , ursuline bonnie pandya ( nee zalokar ) was a slovene - american . her parents resided in falmouth , massachusetts . she is the youngest of three children . her brother , jay thomas , is four years older and her sister , dina annad , is three years older . williams ' paternal family is from jhulasan in india whereas her maternal family is of slovene descent . williams has taken the slovenian flag , a samosa and carniolan sausage to space in celebration of her indian and slovenian heritage . her nicknames are suni in the united states and soncka in slovenia\"\n"
     ]
    }
   ],
   "source": [
    "question = \"What are some of Sunita Williams' hobbies or interests outside of her career?\"\n",
    "answer_question(question,cleaned_text)"
   ]
  },
  {
   "cell_type": "code",
   "execution_count": null,
   "metadata": {},
   "outputs": [],
   "source": []
  }
 ],
 "metadata": {
  "language_info": {
   "name": "python"
  }
 },
 "nbformat": 4,
 "nbformat_minor": 0
}
